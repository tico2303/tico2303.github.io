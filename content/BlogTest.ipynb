{
 "cells": [
  {
   "cell_type": "markdown",
   "metadata": {},
   "source": [
    "![](images/python-logo.png) \n",
    "\n",
    "#  <center> I made this blog in my IPython Notebook </center>\n",
    "\n"
   ]
  },
  {
   "cell_type": "markdown",
   "metadata": {
    "collapsed": true
   },
   "source": [
    "I created this blog using a IPython Notebook! I know cool right? I followed this amazing tutorial [from here](https://www.dataquest.io/blog/how-to-setup-a-data-science-blog/). Very clean and informative. Its essentially a static web-site generator with the added benifit of seemlessly injecting python code like this...\n"
   ]
  },
  {
   "cell_type": "code",
   "execution_count": 5,
   "metadata": {
    "collapsed": false
   },
   "outputs": [
    {
     "name": "stdout",
     "output_type": "stream",
     "text": [
      "My IPython Blogg\n"
     ]
    }
   ],
   "source": [
    "print(\"My IPython Blogg\")"
   ]
  },
  {
   "cell_type": "markdown",
   "metadata": {},
   "source": [
    "This is my first blog and will be posting more in the future. <b>So stay tuned!<b>"
   ]
  }
 ],
 "metadata": {
  "kernelspec": {
   "display_name": "Python 3",
   "language": "python",
   "name": "python3"
  },
  "language_info": {
   "codemirror_mode": {
    "name": "ipython",
    "version": 3
   },
   "file_extension": ".py",
   "mimetype": "text/x-python",
   "name": "python",
   "nbconvert_exporter": "python",
   "pygments_lexer": "ipython3",
   "version": "3.4.3"
  }
 },
 "nbformat": 4,
 "nbformat_minor": 2
}
